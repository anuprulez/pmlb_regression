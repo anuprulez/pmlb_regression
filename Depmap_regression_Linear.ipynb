{
 "cells": [
  {
   "cell_type": "code",
   "execution_count": 2,
   "metadata": {},
   "outputs": [
    {
     "name": "stdout",
     "output_type": "stream",
     "text": [
      "Loading dataset: Galaxy215-[rTRAIL.csv].tabular\n",
      "(604, 48117)\n",
      "(604,)\n",
      "Dataset loaded\n"
     ]
    }
   ],
   "source": [
    "import sys\n",
    "import time\n",
    "import pandas as pd\n",
    "from sklearn import model_selection\n",
    "from sklearn import ensemble, linear_model, svm, metrics, cluster, tree\n",
    "from xgboost import XGBRegressor\n",
    "from matplotlib import pyplot as plt\n",
    "import scipy\n",
    "import os\n",
    "import numpy as np\n",
    "from sklearn.pipeline import Pipeline, FeatureUnion\n",
    "from sklearn import preprocessing\n",
    "from sklearn.feature_selection import *\n",
    "from sklearn.model_selection import GridSearchCV, KFold\n",
    "\n",
    "start_time = time.time()\n",
    "\n",
    "n_cv = 5\n",
    "n_jobs = 4\n",
    "random_state = 3111696\n",
    "d_set = \"Galaxy215-[rTRAIL.csv].tabular\"\n",
    "\n",
    "print(\"Loading dataset: %s\" % d_set)\n",
    "df = pd.read_csv(\"depmap/\" + d_set, sep=\"\\t\")\n",
    "columns = list(df.columns.values)\n",
    "label = df[columns[-1]].copy()\n",
    "data = df.drop(columns[-1], axis=1)\n",
    "print(data.shape)\n",
    "print(label.shape)\n",
    "print(\"Dataset loaded\")"
   ]
  },
  {
   "cell_type": "code",
   "execution_count": 3,
   "metadata": {},
   "outputs": [
    {
     "name": "stdout",
     "output_type": "stream",
     "text": [
      "Feature extraction started...\n",
      "Size low dimensional data:  (604, 454)\n",
      "Feature extraction finished\n"
     ]
    }
   ],
   "source": [
    "print('Feature extraction started...')\n",
    "\n",
    "clf = XGBRegressor(n_estimators=100, random_state=random_state)\n",
    "clf = clf.fit(data, label)\n",
    "model = SelectFromModel(clf, prefit=True)\n",
    "extracted_features_data = model.transform(data)\n",
    "\n",
    "print(\"Size low dimensional data: \", extracted_features_data.shape)\n",
    "print('Feature extraction finished')"
   ]
  },
  {
   "cell_type": "code",
   "execution_count": 13,
   "metadata": {},
   "outputs": [
    {
     "data": {
      "image/png": "[encoded data removed]",
      "text/plain": [
       "<Figure size 936x360 with 1 Axes>"
      ]
     },
     "metadata": {
      "needs_background": "light"
     },
     "output_type": "display_data"
    },
    {
     "name": "stdout",
     "output_type": "stream",
     "text": [
      "Size low dimensional data:  (604, 50)\n",
      "Fitting 5 folds for each of 2 candidates, totalling 10 fits\n",
      "{'regression_ld__fit_intercept': True}\n",
      "0.15\n",
      "Total time taken: 530 seconds\n"
     ]
    },
    {
     "name": "stderr",
     "output_type": "stream",
     "text": [
      "[Parallel(n_jobs=4)]: Using backend LokyBackend with 4 concurrent workers.\n",
      "[Parallel(n_jobs=4)]: Done  10 out of  10 | elapsed:    0.1s finished\n",
      "/home/anupkumar/miniconda3/lib/python3.6/site-packages/sklearn/model_selection/_search.py:841: DeprecationWarning: The default of the `iid` parameter will change from True to False in version 0.22 and will be removed in 0.24. This will change numeric results when test-set sizes are unequal.\n",
      "  DeprecationWarning)\n"
     ]
    }
   ],
   "source": [
    "f_importances = clf.feature_importances_\n",
    "indices_ld = np.argsort(f_importances)[::-1]\n",
    "topk = 50\n",
    "\n",
    "indices_ld = indices_ld[:topk]\n",
    "\n",
    "plt.figure(figsize=(13, 5))\n",
    "plt.title(\"Feature importances after reducing dimensions\")\n",
    "plt.bar(range(topk), f_importances[indices_ld], color=\"r\")\n",
    "plt.xlabel(\"Number of features\")\n",
    "plt.ylabel(\"Importance\")\n",
    "plt.grid(True)\n",
    "plt.show()\n",
    "\n",
    "new_data = np.zeros([data.shape[0], topk])\n",
    "for idx in range(topk):\n",
    "    new_data[:, idx] = data.iloc[:, indices_ld[idx]].values\n",
    "print(\"Size low dimensional data: \", new_data.shape)\n",
    "\n",
    "pipe_regressor_ld = Pipeline([\n",
    "    ('regression_ld', linear_model.LinearRegression())\n",
    "])\n",
    "\n",
    "parameters_ld = [\n",
    "    {   \n",
    "        'regression_ld__fit_intercept': [True, False]\n",
    "    }\n",
    "]\n",
    "\n",
    "optimized_regressor_ld = GridSearchCV(pipe_regressor_ld, parameters_ld, \\\n",
    "                                       cv=KFold(n_splits=n_cv, shuffle=True, random_state=random_state), \\\n",
    "                                       error_score=0, scoring='r2', verbose=True, n_jobs=n_jobs, \\\n",
    "                                       pre_dispatch=\"1*n_jobs\")\n",
    "\n",
    "optimized_regressor_ld.fit(new_data, label)\n",
    "best_regressor_ld = optimized_regressor_ld.best_estimator_\n",
    "best_result_ld = optimized_regressor_ld.cv_results_\n",
    "\n",
    "print(optimized_regressor_ld.best_params_)\n",
    "best_score_ld = optimized_regressor_ld.best_score_\n",
    "print(np.round(best_score_ld, 2))\n",
    "\n",
    "end_time = time.time()\n",
    "print('Total time taken: %d seconds' % int(end_time - start_time))"
   ]
  },
  {
   "cell_type": "code",
   "execution_count": null,
   "metadata": {},
   "outputs": [],
   "source": []
  }
 ],
 "metadata": {
  "kernelspec": {
   "display_name": "Python 3",
   "language": "python",
   "name": "python3"
  },
  "language_info": {
   "codemirror_mode": {
    "name": "ipython",
    "version": 3
   },
   "file_extension": ".py",
   "mimetype": "text/x-python",
   "name": "python",
   "nbconvert_exporter": "python",
   "pygments_lexer": "ipython3",
   "version": "3.6.6"
  }
 },
 "nbformat": 4,
 "nbformat_minor": 2
}
