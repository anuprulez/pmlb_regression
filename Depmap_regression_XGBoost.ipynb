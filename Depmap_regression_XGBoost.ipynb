{
 "cells": [
  {
   "cell_type": "code",
   "execution_count": 5,
   "metadata": {},
   "outputs": [
    {
     "name": "stdout",
     "output_type": "stream",
     "text": [
      "Processing dataset: Galaxy215-[rTRAIL.csv].tabular\n",
      "(604, 48117)\n",
      "(604,)\n",
      "Training started...\n",
      "Fitting 5 folds for each of 1 candidates, totalling 5 fits\n"
     ]
    },
    {
     "name": "stderr",
     "output_type": "stream",
     "text": [
      "[Parallel(n_jobs=6)]: Using backend LokyBackend with 6 concurrent workers.\n",
      "[Parallel(n_jobs=6)]: Done   5 out of   5 | elapsed:  3.5min finished\n",
      "/home/anupkumar/miniconda3/lib/python3.6/site-packages/sklearn/model_selection/_search.py:841: DeprecationWarning: The default of the `iid` parameter will change from True to False in version 0.22 and will be removed in 0.24. This will change numeric results when test-set sizes are unequal.\n",
      "  DeprecationWarning)\n"
     ]
    },
    {
     "name": "stdout",
     "output_type": "stream",
     "text": [
      "{'regression__random_state': 3111696}\n",
      "-0.09133410351545108\n",
      "Training finished\n",
      "R2 square: \n",
      " -0.09133410351545108\n"
     ]
    }
   ],
   "source": [
    "import sys\n",
    "import time\n",
    "import pandas as pd\n",
    "from sklearn import model_selection\n",
    "from sklearn import ensemble, linear_model, svm, metrics, cluster, tree\n",
    "from xgboost import XGBRegressor\n",
    "from matplotlib import pyplot as plt\n",
    "import scipy\n",
    "import os\n",
    "import numpy as np\n",
    "from sklearn.pipeline import Pipeline\n",
    "from sklearn import preprocessing\n",
    "from sklearn.feature_selection import *\n",
    "from sklearn.decomposition import PCA, NMF\n",
    "from sklearn.model_selection import GridSearchCV, KFold\n",
    "\n",
    "start_time = time.time()\n",
    "\n",
    "n_cv = 5\n",
    "n_jobs = 6\n",
    "random_state = 3111696\n",
    "d_set = \"Galaxy215-[rTRAIL.csv].tabular\"\n",
    "\n",
    "print(\"Processing dataset: %s\" % d_set)\n",
    "df = pd.read_csv(\"depmap/\" + d_set, sep=\"\\t\")\n",
    "columns = list(df.columns.values)\n",
    "label = df[columns[-1]].copy()\n",
    "data = df.drop(columns[-1], axis=1)\n",
    "print(data.shape)\n",
    "print(label.shape)\n",
    "\n",
    "print('Training started...')\n",
    "\n",
    "pipe_regressor = Pipeline([\n",
    "  ('regression', XGBRegressor())\n",
    "])\n",
    "\n",
    "parameters = [\n",
    "    {   \n",
    "        #'regression__n_estimators': [50, 100],\n",
    "        #'regression__max_depth': [1, 2, 3, 4, 5], \\\n",
    "        #'regression__booster': ['gbtree', 'gblinear', 'dart'], \\\n",
    "        'regression__random_state': [random_state]\n",
    "    }\n",
    "]\n",
    "\n",
    "optimized_regressor = GridSearchCV(pipe_regressor, parameters, \\\n",
    "                                       cv=KFold(n_splits=n_cv, shuffle=True, random_state=random_state), \\\n",
    "                                       error_score=0, scoring='r2', verbose=True, n_jobs=n_jobs, \\\n",
    "                                       pre_dispatch=\"1*n_jobs\")\n",
    "optimized_regressor.fit(data, label)\n",
    "best_regressor = optimized_regressor.best_estimator_\n",
    "best_result = optimized_regressor.cv_results_\n",
    "print(optimized_regressor.best_params_)\n",
    "best_score = optimized_regressor.best_score_\n",
    "print(best_score)\n",
    "f_importance = optimized_regressor.best_estimator_.named_steps[\"regression\"].feature_importances_\n",
    "indices = np.argsort(f_importance)[::-1]\n",
    "\n",
    "print('Training finished')\n",
    "print(\"R2 square: \\n\", best_score)"
   ]
  },
  {
   "cell_type": "code",
   "execution_count": 8,
   "metadata": {},
   "outputs": [
    {
     "data": {
      "image/png": "[encoded data removed]",
      "text/plain": [
       "<Figure size 936x360 with 1 Axes>"
      ]
     },
     "metadata": {
      "needs_background": "light"
     },
     "output_type": "display_data"
    },
    {
     "name": "stdout",
     "output_type": "stream",
     "text": [
      "Total time taken: 2688 seconds\n"
     ]
    }
   ],
   "source": [
    "topk = 500\n",
    "topk_indices = indices[:topk]\n",
    "\n",
    "plt.figure(figsize=(13, 5))\n",
    "plt.title(\"Feature importances\")\n",
    "plt.bar(range(topk), f_importance[topk_indices], color=\"r\")\n",
    "plt.xlabel(\"Number of features\")\n",
    "plt.ylabel(\"Importance\")\n",
    "plt.grid(True)\n",
    "plt.show()\n",
    "\n",
    "end_time = time.time()\n",
    "print('Total time taken: %d seconds' % int(end_time - start_time))"
   ]
  },
  {
   "cell_type": "code",
   "execution_count": null,
   "metadata": {},
   "outputs": [],
   "source": []
  }
 ],
 "metadata": {
  "kernelspec": {
   "display_name": "Python 3",
   "language": "python",
   "name": "python3"
  },
  "language_info": {
   "codemirror_mode": {
    "name": "ipython",
    "version": 3
   },
   "file_extension": ".py",
   "mimetype": "text/x-python",
   "name": "python",
   "nbconvert_exporter": "python",
   "pygments_lexer": "ipython3",
   "version": "3.6.6"
  }
 },
 "nbformat": 4,
 "nbformat_minor": 2
}
