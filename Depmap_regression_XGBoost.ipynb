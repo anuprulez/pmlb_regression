{
 "cells": [
  {
   "cell_type": "code",
   "execution_count": null,
   "metadata": {},
   "outputs": [
    {
     "name": "stdout",
     "output_type": "stream",
     "text": [
      "Training started...\n",
      "Processing dataset: Galaxy214-[Zibotentan.csv].tabular\n",
      "(610, 48117)\n",
      "(610,)\n",
      "Fitting 5 folds for each of 1 candidates, totalling 5 fits\n"
     ]
    },
    {
     "name": "stderr",
     "output_type": "stream",
     "text": [
      "[Parallel(n_jobs=6)]: Using backend LokyBackend with 6 concurrent workers.\n"
     ]
    }
   ],
   "source": [
    "import sys\n",
    "import time\n",
    "import pandas as pd\n",
    "from sklearn import model_selection\n",
    "from sklearn import linear_model, metrics, cluster\n",
    "from xgboost import XGBRegressor\n",
    "from matplotlib import pyplot as plt\n",
    "import scipy\n",
    "import os\n",
    "import numpy as np\n",
    "from sklearn.pipeline import Pipeline\n",
    "from sklearn import preprocessing\n",
    "from sklearn.feature_selection import *\n",
    "from sklearn.model_selection import GridSearchCV, KFold\n",
    "\n",
    "start_time = time.time()\n",
    "n_cv = 5\n",
    "n_jobs = 6\n",
    "random_state = 3111696\n",
    "\n",
    "#dataname = \"Galaxy214-[Zibotentan.csv].tabular\"\n",
    "#datasets = [\"Galaxy215-[rTRAIL.csv].tabular\"]\n",
    "datasets = [\"Galaxy214-[Zibotentan.csv].tabular\"]\n",
    "\n",
    "regressor = Pipeline([\n",
    "  ('preprocessing', preprocessing.MinMaxScaler()),\n",
    "  #('feature_selection', SelectKBest(f_regression)),\n",
    "  ('regression', XGBRegressor())\n",
    "])\n",
    "\n",
    "parameters = [{ \\\n",
    "    #'feature_selection__k': [10, 100, 1000, 10000], \\\n",
    "    #'regression__max_depth': [1, 2, 3, 4, 5], \\\n",
    "    #'regression__n_estimators': [10, 50, 100, 200], \\\n",
    "    #'regression__booster': ['gbtree', 'gblinear', 'dart'], \\\n",
    "    'regression__random_state': [random_state] \\\n",
    "}]\n",
    "\n",
    "print('Training started...')\n",
    "dataset_accuracies = list()\n",
    "r2_scores = list()\n",
    "for d_set in datasets:\n",
    "    print(\"Processing dataset: %s\" % d_set)\n",
    "    data_path = \"depmap/\" + d_set\n",
    "    df = pd.read_csv(data_path, sep=\"\\t\")\n",
    "    columns = list(df.columns.values)\n",
    "    label = df[columns[-1]].copy()\n",
    "    data = df.drop(columns[-1], axis=1)\n",
    "    optimized_regressor = GridSearchCV(regressor, parameters, \\\n",
    "                                       cv=KFold(n_splits=n_cv, shuffle=True, random_state=random_state), \\\n",
    "                                       error_score=0, scoring='r2', verbose=True, n_jobs=n_jobs, \\\n",
    "                                       pre_dispatch=\"1*n_jobs\")\n",
    "    optimized_regressor.fit(data, label)\n",
    "    best_regressor = optimized_regressor.best_estimator_\n",
    "    best_result = optimized_regressor.cv_results_\n",
    "    print(optimized_regressor.best_params_)\n",
    "    best_score = optimized_regressor.best_score_\n",
    "    r2_scores.append(best_score)\n",
    "    print(best_score)\n",
    "    print(\"Finished dataset: %s\" % d_set)\n",
    "    print(\"------------------------------------------------------------\")\n",
    "\n",
    "print('Training finished')\n",
    "print(\"Mean R2 square: \\n\", np.mean(r2_scores))\n",
    "end_time = time.time()\n",
    "print('Total time taken: %d seconds' % int(end_time - start_time))"
   ]
  },
  {
   "cell_type": "code",
   "execution_count": null,
   "metadata": {},
   "outputs": [],
   "source": []
  }
 ],
 "metadata": {
  "kernelspec": {
   "display_name": "Python 3",
   "language": "python",
   "name": "python3"
  },
  "language_info": {
   "codemirror_mode": {
    "name": "ipython",
    "version": 3
   },
   "file_extension": ".py",
   "mimetype": "text/x-python",
   "name": "python",
   "nbconvert_exporter": "python",
   "pygments_lexer": "ipython3",
   "version": "3.6.6"
  }
 },
 "nbformat": 4,
 "nbformat_minor": 2
}
