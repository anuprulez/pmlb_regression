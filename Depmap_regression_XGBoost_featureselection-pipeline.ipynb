{
 "cells": [
  {
   "cell_type": "code",
   "execution_count": 1,
   "metadata": {},
   "outputs": [
    {
     "name": "stdout",
     "output_type": "stream",
     "text": [
      "Loading dataset: data/Erlotinib.csv\n",
      "(370, 17738)\n",
      "(370,)\n",
      "Dataset loaded\n"
     ]
    }
   ],
   "source": [
    "import sys\n",
    "import time\n",
    "import pandas as pd\n",
    "from sklearn import model_selection\n",
    "from sklearn import ensemble, linear_model, svm, metrics, cluster, tree\n",
    "from xgboost import XGBRegressor\n",
    "from matplotlib import pyplot as plt\n",
    "import scipy\n",
    "import os\n",
    "import numpy as np\n",
    "from sklearn.pipeline import Pipeline, FeatureUnion\n",
    "from sklearn import preprocessing\n",
    "from sklearn.feature_selection import *\n",
    "from sklearn.model_selection import GridSearchCV, KFold\n",
    "\n",
    "start_time = time.time()\n",
    "\n",
    "n_cv = 5\n",
    "n_jobs = 4\n",
    "random_state = 3111696\n",
    "d_set = \"data/Erlotinib.csv\"\n",
    "\n",
    "print(\"Loading dataset: %s\" % d_set)\n",
    "df = pd.read_csv(\"depmap/\" + d_set, sep=\",\")\n",
    "columns = list(df.columns.values)\n",
    "label = df[columns[-1]].copy()\n",
    "data = df.drop(columns[-1], axis=1)\n",
    "print(data.shape)\n",
    "print(label.shape)\n",
    "print(\"Dataset loaded\")"
   ]
  },
  {
   "cell_type": "code",
   "execution_count": null,
   "metadata": {},
   "outputs": [
    {
     "name": "stdout",
     "output_type": "stream",
     "text": [
      "Fitting transformed dataset...\n",
      "Fitting 5 folds for each of 3 candidates, totalling 15 fits\n"
     ]
    },
    {
     "name": "stderr",
     "output_type": "stream",
     "text": [
      "[Parallel(n_jobs=3)]: Using backend LokyBackend with 3 concurrent workers.\n"
     ]
    }
   ],
   "source": [
    "pipe_regressor = Pipeline([\n",
    "  ('rfe', RFE(XGBRegressor(random_state=random_state, n_estimators=50), n_features_to_select=100)),\n",
    "  ('regression', XGBRegressor(random_state=random_state, n_estimators=100))\n",
    "])\n",
    "\n",
    "parameters = [\n",
    "    {\n",
    "        'regression__max_depth': [3, 4, 5],\n",
    "        'regression__subsample': [0.7],\n",
    "        'regression__colsample_bytree': [0.5]\n",
    "    }\n",
    "]\n",
    "\n",
    "optimized_regressor = GridSearchCV(pipe_regressor, parameters, \\\n",
    "                                       cv=KFold(n_splits=n_cv, shuffle=True, random_state=random_state), \\\n",
    "                                       error_score=0, scoring='r2', verbose=True, n_jobs=3, \\\n",
    "                                       pre_dispatch=\"1*n_jobs\")\n",
    "\n",
    "print(\"Fitting transformed dataset...\")\n",
    "optimized_regressor.fit(data, label)\n",
    "\n",
    "best_regressor = optimized_regressor.best_estimator_\n",
    "best_result = optimized_regressor.cv_results_\n",
    "\n",
    "print(optimized_regressor.best_params_)\n",
    "best_score = optimized_regressor.best_score_\n",
    "print(\" \")\n",
    "print(\"R2 score: %.2f\" % round(best_score, 2))\n",
    "\n",
    "end_time = time.time()\n",
    "print('Total time taken: %d seconds' % int(end_time - start_time))"
   ]
  },
  {
   "cell_type": "code",
   "execution_count": 55,
   "metadata": {},
   "outputs": [
    {
     "data": {
      "text/plain": [
       "array([0.03376623, 0.03290043, 0.03896104, 0.02683983, 0.02251082,\n",
       "       0.02164502, 0.01904762, 0.01904762, 0.01818182, 0.01212121,\n",
       "       0.01731602, 0.00519481, 0.01471861, 0.00606061, 0.01731602,\n",
       "       0.00606061, 0.01298701, 0.01558442, 0.00952381, 0.00692641,\n",
       "       0.01125541, 0.0025974 , 0.01385281, 0.00606061, 0.01212121,\n",
       "       0.004329  , 0.01731602, 0.00606061, 0.01212121, 0.01298701,\n",
       "       0.01038961, 0.01125541, 0.01125541, 0.00865801, 0.00865801,\n",
       "       0.00692641, 0.01212121, 0.00692641, 0.004329  , 0.01038961,\n",
       "       0.00779221, 0.00692641, 0.01038961, 0.00779221, 0.01125541,\n",
       "       0.00606061, 0.00606061, 0.00692641, 0.00779221, 0.00692641,\n",
       "       0.01038961, 0.00779221, 0.00952381, 0.01298701, 0.00692641,\n",
       "       0.00692641, 0.01038961, 0.00779221, 0.0034632 , 0.00779221,\n",
       "       0.00519481, 0.00952381, 0.0034632 , 0.0034632 , 0.00606061,\n",
       "       0.01125541, 0.01038961, 0.01385281, 0.004329  , 0.0034632 ,\n",
       "       0.00519481, 0.00606061, 0.01038961, 0.00865801, 0.01038961,\n",
       "       0.004329  , 0.00865801, 0.01212121, 0.01298701, 0.0034632 ,\n",
       "       0.00865801, 0.0034632 , 0.00865801, 0.00606061, 0.00519481,\n",
       "       0.0034632 , 0.01298701, 0.0017316 , 0.01558442, 0.00952381,\n",
       "       0.004329  , 0.00779221, 0.00519481, 0.00606061, 0.0034632 ,\n",
       "       0.00779221, 0.00692641, 0.00865801, 0.01038961, 0.0025974 ],\n",
       "      dtype=float32)"
      ]
     },
     "execution_count": 55,
     "metadata": {},
     "output_type": "execute_result"
    }
   ],
   "source": [
    "optimized_regressor.best_estimator_.named_steps[\"regression\"].feature_importances_\n"
   ]
  },
  {
   "cell_type": "code",
   "execution_count": 51,
   "metadata": {},
   "outputs": [
    {
     "data": {
      "text/plain": [
       "['__abstractmethods__',\n",
       " '__class__',\n",
       " '__delattr__',\n",
       " '__dict__',\n",
       " '__dir__',\n",
       " '__doc__',\n",
       " '__eq__',\n",
       " '__format__',\n",
       " '__ge__',\n",
       " '__getattribute__',\n",
       " '__getstate__',\n",
       " '__gt__',\n",
       " '__hash__',\n",
       " '__init__',\n",
       " '__init_subclass__',\n",
       " '__le__',\n",
       " '__lt__',\n",
       " '__module__',\n",
       " '__ne__',\n",
       " '__new__',\n",
       " '__reduce__',\n",
       " '__reduce_ex__',\n",
       " '__repr__',\n",
       " '__setattr__',\n",
       " '__setstate__',\n",
       " '__sizeof__',\n",
       " '__str__',\n",
       " '__subclasshook__',\n",
       " '__weakref__',\n",
       " '_abc_cache',\n",
       " '_abc_negative_cache',\n",
       " '_abc_negative_cache_version',\n",
       " '_abc_registry',\n",
       " '_get_param_names',\n",
       " '_get_support_mask',\n",
       " 'estimator',\n",
       " 'estimator_',\n",
       " 'fit',\n",
       " 'fit_transform',\n",
       " 'get_params',\n",
       " 'get_support',\n",
       " 'inverse_transform',\n",
       " 'max_features',\n",
       " 'norm_order',\n",
       " 'partial_fit',\n",
       " 'prefit',\n",
       " 'set_params',\n",
       " 'threshold',\n",
       " 'threshold_',\n",
       " 'transform']"
      ]
     },
     "execution_count": 51,
     "metadata": {},
     "output_type": "execute_result"
    }
   ],
   "source": [
    "dir(pipe_regressor.named_steps[\"sfm\"])"
   ]
  },
  {
   "cell_type": "code",
   "execution_count": null,
   "metadata": {},
   "outputs": [],
   "source": []
  }
 ],
 "metadata": {
  "kernelspec": {
   "display_name": "Python 3",
   "language": "python",
   "name": "python3"
  },
  "language_info": {
   "codemirror_mode": {
    "name": "ipython",
    "version": 3
   },
   "file_extension": ".py",
   "mimetype": "text/x-python",
   "name": "python",
   "nbconvert_exporter": "python",
   "pygments_lexer": "ipython3",
   "version": "3.6.7"
  }
 },
 "nbformat": 4,
 "nbformat_minor": 2
}
