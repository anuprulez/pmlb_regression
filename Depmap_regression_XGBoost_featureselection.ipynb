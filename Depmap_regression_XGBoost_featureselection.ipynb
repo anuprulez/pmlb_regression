{
 "cells": [
  {
   "cell_type": "code",
   "execution_count": null,
   "metadata": {},
   "outputs": [
    {
     "name": "stdout",
     "output_type": "stream",
     "text": [
      "Processing dataset: Galaxy215-[rTRAIL.csv].tabular\n",
      "(604, 48117)\n",
      "(604,)\n",
      "Feature extraction started...\n"
     ]
    }
   ],
   "source": [
    "import sys\n",
    "import time\n",
    "import pandas as pd\n",
    "from sklearn import model_selection\n",
    "from sklearn import ensemble, linear_model, svm, metrics, cluster, tree\n",
    "from xgboost import XGBRegressor\n",
    "from matplotlib import pyplot as plt\n",
    "import scipy\n",
    "import os\n",
    "import numpy as np\n",
    "from sklearn.pipeline import Pipeline\n",
    "from sklearn import preprocessing\n",
    "from sklearn.feature_selection import *\n",
    "from sklearn.decomposition import PCA, NMF\n",
    "from sklearn.model_selection import GridSearchCV, KFold\n",
    "\n",
    "start_time = time.time()\n",
    "\n",
    "n_cv = 5\n",
    "n_jobs = 4\n",
    "random_state = 3111696\n",
    "d_set = \"Galaxy215-[rTRAIL.csv].tabular\"\n",
    "\n",
    "print(\"Processing dataset: %s\" % d_set)\n",
    "df = pd.read_csv(\"depmap/\" + d_set, sep=\"\\t\")\n",
    "columns = list(df.columns.values)\n",
    "label = df[columns[-1]].copy()\n",
    "data = df.drop(columns[-1], axis=1)\n",
    "print(data.shape)\n",
    "print(label.shape)\n",
    "\n",
    "print('Feature extraction started...')\n",
    "\n",
    "clf = ensemble.RandomForestRegressor(n_estimators=200)\n",
    "model = SelectFromModel(clf)\n",
    "model.fit(data, label)\n",
    "\n",
    "extracted_features_data = model.transform(data)\n",
    "print(\"Size low dimensional data: \", extracted_features_data.shape)\n",
    "\n",
    "print('Feature finished')"
   ]
  },
  {
   "cell_type": "code",
   "execution_count": 19,
   "metadata": {},
   "outputs": [
    {
     "name": "stdout",
     "output_type": "stream",
     "text": [
      "Fitting 5 folds for each of 48 candidates, totalling 240 fits\n"
     ]
    },
    {
     "name": "stderr",
     "output_type": "stream",
     "text": [
      "[Parallel(n_jobs=4)]: Using backend LokyBackend with 4 concurrent workers.\n",
      "[Parallel(n_jobs=4)]: Done  46 tasks      | elapsed:   29.7s\n",
      "[Parallel(n_jobs=4)]: Done 196 tasks      | elapsed:  2.2min\n",
      "[Parallel(n_jobs=4)]: Done 240 out of 240 | elapsed:  2.7min finished\n",
      "/home/anupkumar/miniconda3/lib/python3.6/site-packages/sklearn/model_selection/_search.py:841: DeprecationWarning: The default of the `iid` parameter will change from True to False in version 0.22 and will be removed in 0.24. This will change numeric results when test-set sizes are unequal.\n",
      "  DeprecationWarning)\n"
     ]
    },
    {
     "name": "stdout",
     "output_type": "stream",
     "text": [
      "{'regression_ld__booster': 'gbtree', 'regression_ld__colsample_bytree': 0.5, 'regression_ld__learning_rate': 0.1, 'regression_ld__max_depth': 4, 'regression_ld__n_estimators': 200, 'regression_ld__random_state': 3111696, 'regression_ld__reg_alpha': 0, 'regression_ld__reg_lambda': 0, 'regression_ld__subsample': 0.6}\n",
      "0.032424726565594135\n",
      "Total time taken: 432 seconds\n"
     ]
    }
   ],
   "source": [
    "\n",
    "pipe_regressor_ld = Pipeline([\n",
    "  ('regression_ld', XGBRegressor())\n",
    "])\n",
    "\n",
    "parameters_ld = [\n",
    "    {   \n",
    "        'regression_ld__max_depth': [4],\n",
    "        'regression_ld__booster': ['gbtree'],\n",
    "        'regression_ld__learning_rate': [0.1],\n",
    "        'regression_ld__subsample': [0.7, 0.6, 0.5, 0.4],\n",
    "        'regression_ld__colsample_bytree': [0.7, 0.6, 0.5, 0.4],\n",
    "        'regression_ld__reg_lambda': [0],\n",
    "        'regression_ld__reg_alpha': [0],\n",
    "        'regression_ld__n_estimators': [50, 100, 200],\n",
    "        'regression_ld__random_state': [random_state]\n",
    "    }\n",
    "]\n",
    "\n",
    "optimized_regressor_ld = GridSearchCV(pipe_regressor_ld, parameters_ld, \\\n",
    "                                       cv=KFold(n_splits=n_cv, shuffle=True, random_state=random_state), \\\n",
    "                                       error_score=0, scoring='r2', verbose=True, n_jobs=n_jobs, \\\n",
    "                                       pre_dispatch=\"1*n_jobs\")\n",
    "\n",
    "optimized_regressor_ld.fit(extracted_features_data, label)\n",
    "best_regressor_ld = optimized_regressor_ld.best_estimator_\n",
    "best_result_ld = optimized_regressor_ld.cv_results_\n",
    "\n",
    "print(optimized_regressor_ld.best_params_)\n",
    "best_score_ld = optimized_regressor_ld.best_score_\n",
    "print(best_score_ld)\n",
    "\n",
    "end_time = time.time()\n",
    "print('Total time taken: %d seconds' % int(end_time - start_time))"
   ]
  },
  {
   "cell_type": "code",
   "execution_count": null,
   "metadata": {},
   "outputs": [],
   "source": []
  }
 ],
 "metadata": {
  "kernelspec": {
   "display_name": "Python 3",
   "language": "python",
   "name": "python3"
  },
  "language_info": {
   "codemirror_mode": {
    "name": "ipython",
    "version": 3
   },
   "file_extension": ".py",
   "mimetype": "text/x-python",
   "name": "python",
   "nbconvert_exporter": "python",
   "pygments_lexer": "ipython3",
   "version": "3.6.6"
  }
 },
 "nbformat": 4,
 "nbformat_minor": 2
}
