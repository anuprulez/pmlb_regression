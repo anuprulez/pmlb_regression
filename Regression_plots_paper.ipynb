{
 "cells": [
  {
   "cell_type": "code",
   "execution_count": 1,
   "metadata": {},
   "outputs": [
    {
     "name": "stdout",
     "output_type": "stream",
     "text": [
      "Mean R2 score for ExtraTrees regressor: 0.81\n",
      "Mean R2 score for ElasticNet regressor: 0.48\n",
      "Mean R2 score for DecisionTree regressor: 0.67\n",
      "Mean R2 score for Adaboost regressor: 0.74\n",
      "Mean R2 score for BayesianRidge regressor: 0.49\n",
      "Mean R2 score for Huber regressor: 0.46\n",
      "Mean R2 score for XGBoost regressor: 0.82\n",
      "Mean R2 score for LinearRegression regressor: 0.48\n",
      "Mean R2 score for GradientBoosting regressor: 0.80\n",
      "Mean R2 score for LinearSVR regressor: 0.48\n",
      "Mean R2 score for RandomForest regressor: 0.77\n",
      "Mean R2 score for Lars regressor: 0.48\n",
      "Mean R2 score for ExtraTree regressor: 0.67\n",
      "Mean R2 score for SGD regressor: 0.47\n",
      "Mean R2 score for Bagging regressor: 0.77\n",
      "Mean R2 score for KNNeighbours regressor: 0.74\n",
      "Total time taken: 11 seconds\n"
     ]
    }
   ],
   "source": [
    "import sys\n",
    "import time\n",
    "import pandas as pd\n",
    "from matplotlib import pyplot as plt\n",
    "from matplotlib import rcParams\n",
    "import os\n",
    "import numpy as np\n",
    "import warnings\n",
    "\n",
    "import plotly\n",
    "import plotly.graph_objs as go\n",
    "from plotly import tools\n",
    "import plotly.io as pio\n",
    "\n",
    "\n",
    "warnings.filterwarnings('ignore')\n",
    "\n",
    "start_time = time.time()\n",
    "folder_name = \"european_days/\"\n",
    "clf_names_dir = os.listdir(folder_name)\n",
    "\n",
    "\n",
    "def check_file(f_name):\n",
    "    for clf in clf_names_dir:\n",
    "        data_path = folder_name + clf\n",
    "        files = [f for f in os.listdir(data_path)]\n",
    "        if f_name not in files:\n",
    "            return False\n",
    "            break\n",
    "    return True\n",
    "\n",
    "\n",
    "clf_names = list()\n",
    "clf_mean_r2 = list()\n",
    "r2_dict = dict()\n",
    "fit_time_dict = dict()\n",
    "\n",
    "for clf in clf_names_dir:\n",
    "    data_path = folder_name + clf\n",
    "    files = [f for f in os.listdir(data_path)]\n",
    "    r2_scores = list()\n",
    "    common_fileset = list()\n",
    "    r2_dict[clf] = list()\n",
    "    for f_name in files:\n",
    "        if_file_present = check_file(f_name)\n",
    "        if if_file_present is True:\n",
    "            common_fileset.append(f_name)\n",
    "            f_path = data_path + \"/\" + f_name\n",
    "            df = pd.read_csv(f_path, sep=\"\\t\")\n",
    "            rank_test_score = df[df[\"rank_test_score\"] == 1]\n",
    "            mean_test_score = rank_test_score[\"mean_test_score\"]\n",
    "            r2_scores.append(mean_test_score.iloc[0])\n",
    "    r2_dict[clf] = r2_scores\n",
    "            \n",
    "    clf_names.append(clf)\n",
    "    #mean_r2 = np.mean(r2_scores)\n",
    "    #clf_mean_r2.append(mean_r2)\n",
    "    #r2_dict[clf] = mean_r2\n",
    "\n",
    "    #print(\"Mean R2 score for %s regressor: %0.2f\" % (clf, mean_r2))\n",
    "\n",
    "end_time = time.time()\n",
    "print('Total time taken: %d seconds' % int(end_time - start_time))\n"
   ]
  },
  {
   "cell_type": "code",
   "execution_count": null,
   "metadata": {},
   "outputs": [],
   "source": []
  }
 ],
 "metadata": {
  "kernelspec": {
   "display_name": "Python 3",
   "language": "python",
   "name": "python3"
  },
  "language_info": {
   "codemirror_mode": {
    "name": "ipython",
    "version": 3
   },
   "file_extension": ".py",
   "mimetype": "text/x-python",
   "name": "python",
   "nbconvert_exporter": "python",
   "pygments_lexer": "ipython3",
   "version": "3.6.6"
  }
 },
 "nbformat": 4,
 "nbformat_minor": 2
}
