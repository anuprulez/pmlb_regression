{
 "cells": [
  {
   "cell_type": "code",
   "execution_count": null,
   "metadata": {},
   "outputs": [],
   "source": []
  },
  {
   "cell_type": "code",
   "execution_count": 32,
   "metadata": {
    "scrolled": false
   },
   "outputs": [
    {
     "name": "stdout",
     "output_type": "stream",
     "text": [
      "Start first training...\n",
      "Dataset size: 4827\n",
      "Test R-square: 0.52\n",
      "Training finished\n",
      "\n",
      "Start training with new dataset...\n",
      "Dataset size: 1408\n",
      "Test R-square: 0.28\n",
      "Re-training finished\n",
      "Total time taken: 1 seconds\n"
     ]
    }
   ],
   "source": [
    "import sys\n",
    "import time\n",
    "import pandas as pd\n",
    "from xgboost import XGBRegressor\n",
    "from matplotlib import pyplot as plt\n",
    "import os\n",
    "import pickle\n",
    "import numpy as np\n",
    "from sklearn.model_selection import GridSearchCV, KFold\n",
    "from sklearn.metrics import r2_score\n",
    "\n",
    "import warnings\n",
    "warnings.filterwarnings('ignore')\n",
    "\n",
    "%matplotlib inline\n",
    "start_time = time.time()\n",
    "\n",
    "d_set = \"294_satellite_image.tsv\"\n",
    "s_factor = 0.25\n",
    "model_file = \"xgboost_model.pkl\"\n",
    "cv_split = 5\n",
    "\n",
    "regressor = Pipeline([\n",
    "  ('regression', XGBRegressor(warm_start=True))\n",
    "])\n",
    "\n",
    "parameters = [{ \\\n",
    "    #'regression__max_depth': [1, 2, 3, 4, 5], \\\n",
    "    #'regression__n_estimators': [10, 50, 100, 200], \\\n",
    "    #'regression__booster': ['gbtree', 'gblinear', 'dart'], \\\n",
    "    'regression__random_state': [3111696] \\\n",
    "}]\n",
    "\n",
    "dataset_accuracies = list()\n",
    "r2_scores = list()\n",
    "\n",
    "data_path = \"data/\" + d_set\n",
    "df = pd.read_csv(data_path, sep=\"\\t\")\n",
    "\n",
    "# randomize the dataframe\n",
    "df.sample(frac=1)\n",
    "\n",
    "# divide datasets\n",
    "n_rows = len(df)\n",
    "test_dataset = df[: 200]\n",
    "shortened_dataset1 = df[200: int(s_factor*n_rows)]\n",
    "shortened_dataset2 = df[int(s_factor*n_rows):]\n",
    "\n",
    "def train_model(dataset_frame, retrain):\n",
    "    label = dataset_frame[\"target\"].copy()\n",
    "    data = dataset_frame.drop(\"target\", axis=1)\n",
    "    print(\"Dataset size: %d\" % len(label))\n",
    "    if retrain is False:\n",
    "        optimized_regressor = GridSearchCV(regressor, parameters, \\\n",
    "            cv=KFold(n_splits=cv_split, shuffle=True, random_state=3111696), \\\n",
    "            error_score=0,\n",
    "            scoring='r2',\n",
    "            refit=True\n",
    "        )\n",
    "        optimized_regressor.fit(data, label)\n",
    "        best_regressor = optimized_regressor.best_estimator_\n",
    "        with open(model_file, \"wb\") as output_handler:\n",
    "            pickle.dump(best_regressor, output_handler, pickle.HIGHEST_PROTOCOL)\n",
    "    else:\n",
    "        with open(model_file, 'rb') as model_handler:\n",
    "            best_regressor = pickle.load(model_handler)\n",
    "        best_regressor.fit(data, label)\n",
    "    \n",
    "    # evaluate on test data\n",
    "    test_label = test_dataset[\"target\"].copy()\n",
    "    test_data = test_dataset.drop(\"target\", axis=1)\n",
    "    predictions = best_regressor.predict(test_data)\n",
    "\n",
    "    r_squared_score = r2_score(test_label, predictions)\n",
    "    print(\"Test R-square: %0.2f\" % r_squared_score)\n",
    "    \n",
    "print(\"Start first training...\")\n",
    "train_model(shortened_dataset2, False)\n",
    "print('Training finished')\n",
    "print(\"\")\n",
    "print(\"Start training with new dataset...\")\n",
    "train_model(shortened_dataset1, True)\n",
    "print('Re-training finished')\n",
    "\n",
    "end_time = time.time()\n",
    "print('Total time taken: %d seconds' % int(end_time - start_time))"
   ]
  },
  {
   "cell_type": "code",
   "execution_count": null,
   "metadata": {},
   "outputs": [],
   "source": []
  },
  {
   "cell_type": "code",
   "execution_count": null,
   "metadata": {},
   "outputs": [],
   "source": []
  }
 ],
 "metadata": {
  "kernelspec": {
   "display_name": "Python 3",
   "language": "python",
   "name": "python3"
  },
  "language_info": {
   "codemirror_mode": {
    "name": "ipython",
    "version": 3
   },
   "file_extension": ".py",
   "mimetype": "text/x-python",
   "name": "python",
   "nbconvert_exporter": "python",
   "pygments_lexer": "ipython3",
   "version": "3.6.5"
  }
 },
 "nbformat": 4,
 "nbformat_minor": 2
}
