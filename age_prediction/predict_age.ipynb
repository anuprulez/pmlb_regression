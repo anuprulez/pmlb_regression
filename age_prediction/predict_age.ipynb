{
 "cells": [
  {
   "cell_type": "code",
   "execution_count": 20,
   "metadata": {},
   "outputs": [
    {
     "name": "stdout",
     "output_type": "stream",
     "text": [
      "(143, 27142)\n",
      "(143,)\n",
      "Training started...\n",
      "Fitting 5 folds for each of 27 candidates, totalling 135 fits\n"
     ]
    },
    {
     "name": "stderr",
     "output_type": "stream",
     "text": [
      "[Parallel(n_jobs=6)]: Using backend LokyBackend with 6 concurrent workers.\n",
      "[Parallel(n_jobs=6)]: Done  44 tasks      | elapsed:  7.9min\n",
      "[Parallel(n_jobs=6)]: Done 135 out of 135 | elapsed: 21.0min finished\n",
      "/home/anupkumar/miniconda3/lib/python3.6/site-packages/sklearn/model_selection/_search.py:841: DeprecationWarning: The default of the `iid` parameter will change from True to False in version 0.22 and will be removed in 0.24. This will change numeric results when test-set sizes are unequal.\n",
      "  DeprecationWarning)\n"
     ]
    },
    {
     "name": "stdout",
     "output_type": "stream",
     "text": [
      "{'regression__colsample_bytree': 0.7, 'regression__max_depth': 4, 'regression__n_estimators': 200, 'regression__random_state': 3111696, 'regression__subsample': 0.5}\n",
      "R2 score for training: 0.65\n",
      "Training finished\n",
      "Time elapsed: 1303.51\n"
     ]
    }
   ],
   "source": [
    "import pandas as pd\n",
    "import sys\n",
    "import time\n",
    "import pandas as pd\n",
    "from sklearn import model_selection\n",
    "from sklearn import ensemble, linear_model, svm, metrics, cluster, tree\n",
    "from xgboost import XGBRegressor\n",
    "from matplotlib import pyplot as plt\n",
    "import scipy\n",
    "import os\n",
    "import numpy as np\n",
    "from sklearn.pipeline import Pipeline\n",
    "from sklearn import preprocessing\n",
    "from sklearn.feature_selection import *\n",
    "from sklearn.decomposition import PCA, NMF\n",
    "from sklearn.model_selection import GridSearchCV, KFold\n",
    "\n",
    "start_time = time.time()\n",
    "\n",
    "n_cv = 5\n",
    "n_jobs = 6\n",
    "random_state = 3111696\n",
    "file_path = \"alldata.csv\"\n",
    "\n",
    "alldata = pd.read_csv(file_path, sep=\"\\t\")\n",
    "\n",
    "data = alldata.iloc[:,8:].astype(float)\n",
    "age = alldata[\"age\"]\n",
    "\n",
    "print(data.shape)\n",
    "print(age.shape)\n",
    "\n",
    "X_train, X_test, y_train, y_test = model_selection.train_test_split(data, age, \n",
    "                                                                    test_size=0.0, random_state=random_state)\n",
    "\n",
    "print('Training started...')\n",
    "\n",
    "pipe_regressor = Pipeline([\n",
    "  ('regression', XGBRegressor(random_state=random_state))\n",
    "])\n",
    "\n",
    "parameters = [\n",
    "    {   \n",
    "        'regression__max_depth': [3, 4, 5],\n",
    "        'regression__subsample': [0.6, 0.5, 0.4],\n",
    "        'regression__colsample_bytree': [0.7, 0.6, 0.5],\n",
    "        'regression__n_estimators': [100],\n",
    "        #'regression__booster': ['gbtree', 'gblinear', 'dart'], \\\n",
    "        'regression__random_state': [random_state]\n",
    "    }\n",
    "]\n",
    "\n",
    "optimized_regressor = GridSearchCV(pipe_regressor, parameters, \\\n",
    "                                       cv=KFold(n_splits=n_cv, shuffle=True, random_state=random_state), \\\n",
    "                                       error_score=0, scoring='r2', verbose=True, n_jobs=n_jobs, \\\n",
    "                                       pre_dispatch=\"1*n_jobs\")\n",
    "\n",
    "optimized_regressor.fit(X_train, y_train)\n",
    "best_regressor = optimized_regressor.best_estimator_\n",
    "best_result = optimized_regressor.cv_results_\n",
    "print(optimized_regressor.best_params_)\n",
    "\n",
    "best_score = optimized_regressor.best_score_\n",
    "print(\"R2 score for training: %.2f\" % best_score)\n",
    "\n",
    "#prediction = best_regressor.predict(X_test)\n",
    "\n",
    "#test_score = metrics.r2_score(y_test, prediction)\n",
    "#print(\"Score for test: %.2f\" % test_score)\n",
    "\n",
    "print('Training finished')\n",
    "\n",
    "end_time = time.time()\n",
    "print(\"Time elapsed: %.2f\" % (end_time - start_time))\n"
   ]
  },
  {
   "cell_type": "code",
   "execution_count": null,
   "metadata": {},
   "outputs": [],
   "source": []
  },
  {
   "cell_type": "code",
   "execution_count": null,
   "metadata": {},
   "outputs": [],
   "source": []
  }
 ],
 "metadata": {
  "kernelspec": {
   "display_name": "Python 3",
   "language": "python",
   "name": "python3"
  },
  "language_info": {
   "codemirror_mode": {
    "name": "ipython",
    "version": 3
   },
   "file_extension": ".py",
   "mimetype": "text/x-python",
   "name": "python",
   "nbconvert_exporter": "python",
   "pygments_lexer": "ipython3",
   "version": "3.6.7"
  }
 },
 "nbformat": 4,
 "nbformat_minor": 2
}
