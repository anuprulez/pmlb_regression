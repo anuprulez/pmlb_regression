{
 "cells": [
  {
   "cell_type": "code",
   "execution_count": 115,
   "metadata": {},
   "outputs": [
    {
     "name": "stdout",
     "output_type": "stream",
     "text": [
      "(133, 27142)\n",
      "(133,)\n",
      "(10, 27142)\n",
      "(10,)\n"
     ]
    }
   ],
   "source": [
    "import os\n",
    "import sys\n",
    "import time\n",
    "import scipy\n",
    "import pandas as pd\n",
    "import numpy as np\n",
    "from sklearn import ensemble, linear_model, svm, metrics, model_selection, preprocessing\n",
    "from sklearn.pipeline import Pipeline\n",
    "from sklearn.model_selection import GridSearchCV, KFold\n",
    "\n",
    "start_time = time.time()\n",
    "\n",
    "file_path = \"alldata.csv\"\n",
    "\n",
    "alldata = pd.read_csv(file_path, sep=\"\\t\")\n",
    "\n",
    "data = alldata.iloc[:,8:].astype(float)\n",
    "\n",
    "normals = (alldata.condition == 'normal') \n",
    "progeria = (alldata.condition == 'hgps')\n",
    "\n",
    "data_normal = data[normals]\n",
    "data_prog = data[progeria]\n",
    "\n",
    "age_normal = alldata[normals].age \n",
    "age_prog = alldata[progeria].age\n",
    "\n",
    "print(data_normal.shape)\n",
    "print(age_normal.shape)\n",
    "\n",
    "print(data_prog.shape)\n",
    "print(age_prog.shape)"
   ]
  },
  {
   "cell_type": "code",
   "execution_count": 121,
   "metadata": {},
   "outputs": [
    {
     "name": "stdout",
     "output_type": "stream",
     "text": [
      "Training started...\n",
      "Fitting 5 folds for each of 2 candidates, totalling 10 fits\n"
     ]
    },
    {
     "name": "stderr",
     "output_type": "stream",
     "text": [
      "[Parallel(n_jobs=6)]: Using backend LokyBackend with 6 concurrent workers.\n",
      "[Parallel(n_jobs=6)]: Done  10 out of  10 | elapsed:    3.0s finished\n",
      "/home/anupkumar/miniconda3/lib/python3.6/site-packages/sklearn/model_selection/_search.py:841: DeprecationWarning: The default of the `iid` parameter will change from True to False in version 0.22 and will be removed in 0.24. This will change numeric results when test-set sizes are unequal.\n",
      "  DeprecationWarning)\n"
     ]
    },
    {
     "name": "stdout",
     "output_type": "stream",
     "text": [
      "{'regression__normalize': False}\n",
      "R2 score for training: 0.70\n",
      "Training finished\n"
     ]
    }
   ],
   "source": [
    "print('Training started...')\n",
    "\n",
    "n_jobs = 6\n",
    "n_cv = 5\n",
    "random_state = 3111696\n",
    "\n",
    "pipe_regressor = Pipeline([\n",
    "  ('preprocessing', preprocessing.MinMaxScaler()),\n",
    "  ('regression', linear_model.LinearRegression())\n",
    "])\n",
    "\n",
    "parameters = [\n",
    "    {   \n",
    "        'regression__normalize': [True, False]\n",
    "    }\n",
    "]\n",
    "\n",
    "'''pipe_regressor = Pipeline([\n",
    "  ('preprocessing', preprocessing.MinMaxScaler()),\n",
    "  ('regression', linear_model.ElasticNet())\n",
    "])\n",
    "\n",
    "parameters = [\n",
    "    {   \n",
    "        'regression__normalize': [True, False],\n",
    "        'regression__alpha': [0, 0.001, 0.1],\n",
    "        'regression__l1_ratio': [0.5, 0.75, 1.0],\n",
    "    }\n",
    "]\n",
    "\n",
    "pipe_regressor = Pipeline([\n",
    "  ('regression', svm.SVR())\n",
    "])\n",
    "\n",
    "parameters = [\n",
    "    {   \n",
    "        'regression__C':[0.001, 1],\n",
    "        'regression__kernel':['poly'],\n",
    "        'regression__degree':[1],\n",
    "        'regression__epsilon':[3.5, 3.25, 3.0],\n",
    "        'regression__gamma':['auto', 'scale']\n",
    "    }\n",
    "]'''\n",
    "\n",
    "optimized_regressor = GridSearchCV(pipe_regressor, parameters, \\\n",
    "                                       cv=KFold(n_splits=n_cv, shuffle=True, random_state=random_state), \\\n",
    "                                       error_score=0, scoring='r2', verbose=True, n_jobs=n_jobs, \\\n",
    "                                       pre_dispatch=\"1*n_jobs\")\n",
    "\n",
    "optimized_regressor.fit(data_normal, age_normal)\n",
    "best_regressor = optimized_regressor.best_estimator_\n",
    "best_result = optimized_regressor.cv_results_\n",
    "print(optimized_regressor.best_params_)\n",
    "\n",
    "best_score = optimized_regressor.best_score_\n",
    "print(\"R2 score for training: %.2f\" % best_score)\n",
    "\n",
    "print('Training finished')"
   ]
  },
  {
   "cell_type": "code",
   "execution_count": null,
   "metadata": {},
   "outputs": [],
   "source": []
  },
  {
   "cell_type": "code",
   "execution_count": null,
   "metadata": {},
   "outputs": [],
   "source": []
  }
 ],
 "metadata": {
  "kernelspec": {
   "display_name": "Python 3",
   "language": "python",
   "name": "python3"
  },
  "language_info": {
   "codemirror_mode": {
    "name": "ipython",
    "version": 3
   },
   "file_extension": ".py",
   "mimetype": "text/x-python",
   "name": "python",
   "nbconvert_exporter": "python",
   "pygments_lexer": "ipython3",
   "version": "3.6.7"
  }
 },
 "nbformat": 4,
 "nbformat_minor": 2
}
