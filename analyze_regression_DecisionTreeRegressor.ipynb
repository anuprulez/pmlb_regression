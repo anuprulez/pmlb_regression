{
 "cells": [
  {
   "cell_type": "code",
   "execution_count": 28,
   "metadata": {
    "scrolled": true
   },
   "outputs": [
    {
     "name": "stdout",
     "output_type": "stream",
     "text": [
      "Training started...\n",
      "Processing dataset: 228_elusage.tsv\n",
      "{'regression__criterion': 'mse', 'regression__max_features': None, 'regression__min_weight_fraction_leaf': 0.1}\n",
      "Best score:  0.7064510672998228\n",
      "Finished dataset: 228_elusage.tsv\n",
      "------------------------------------------------------------\n",
      "Processing dataset: 485_analcatdata_vehicle.tsv\n",
      "{'regression__criterion': 'friedman_mse', 'regression__max_features': 'auto', 'regression__min_weight_fraction_leaf': 0.0}\n",
      "Best score:  0.6602111757672043\n",
      "Finished dataset: 485_analcatdata_vehicle.tsv\n",
      "------------------------------------------------------------\n",
      "Processing dataset: 523_analcatdata_neavote.tsv\n",
      "{'regression__criterion': 'mae', 'regression__max_features': None, 'regression__min_weight_fraction_leaf': 0.0}\n",
      "Best score:  0.884169930362341\n",
      "Finished dataset: 523_analcatdata_neavote.tsv\n",
      "------------------------------------------------------------\n",
      "Processing dataset: 663_rabe_266.tsv\n",
      "{'regression__criterion': 'mae', 'regression__max_features': None, 'regression__min_weight_fraction_leaf': 0.0}\n",
      "Best score:  0.9733107237540395\n",
      "Finished dataset: 663_rabe_266.tsv\n",
      "------------------------------------------------------------\n",
      "Processing dataset: 687_sleuth_ex1605.tsv\n",
      "{'regression__criterion': 'mse', 'regression__max_features': None, 'regression__min_weight_fraction_leaf': 0.1}\n",
      "Best score:  0.5257082496606406\n",
      "Finished dataset: 687_sleuth_ex1605.tsv\n",
      "------------------------------------------------------------\n",
      "Training finished\n",
      "Mean R2 square: \n",
      " 0.7499702293688096\n",
      "Total time taken: 2 seconds\n"
     ]
    }
   ],
   "source": [
    "import sys\n",
    "import time\n",
    "import pandas as pd\n",
    "from sklearn import model_selection\n",
    "from sklearn import metrics, cluster, tree\n",
    "from matplotlib import pyplot as plt\n",
    "import scipy\n",
    "import numpy as np\n",
    "from sklearn.pipeline import Pipeline\n",
    "from sklearn import preprocessing\n",
    "from sklearn.feature_selection import *\n",
    "from sklearn.model_selection import GridSearchCV, KFold\n",
    "\n",
    "import warnings\n",
    "warnings.filterwarnings('ignore')\n",
    "\n",
    "%matplotlib inline\n",
    "start_time = time.time()\n",
    "datasets = [\"228_elusage.tsv\", \"485_analcatdata_vehicle.tsv\", \"523_analcatdata_neavote.tsv\", \\\n",
    "            '663_rabe_266.tsv', '687_sleuth_ex1605.tsv']\n",
    "\n",
    "regressor = Pipeline([\n",
    "  ('preprocessing', preprocessing.RobustScaler()),\n",
    "  ('regression', tree.DecisionTreeRegressor())\n",
    "])\n",
    "\n",
    "ard_parameters = [{ \\\n",
    "    'regression__criterion': ['mse', 'mae', 'friedman_mse'], \\\n",
    "    'regression__min_weight_fraction_leaf': [0.0, 0.1, 0.25, 0.5, 1.0], \\\n",
    "    'regression__max_features': [None, 'auto', 'sqrt', 'log2'] \\\n",
    "}]\n",
    "\n",
    "print('Training started...')\n",
    "\n",
    "dataset_accuracies = list()\n",
    "r2_scores = list()\n",
    "for d_set in datasets:\n",
    "    print(\"Processing dataset: %s\" % d_set)\n",
    "    data_path = \"data/\" + d_set\n",
    "    df = pd.read_csv(data_path, sep=\"\\t\")\n",
    "    label = df[\"target\"].copy()\n",
    "    data = df.drop(\"target\", axis=1)\n",
    "    optimized_regressor = GridSearchCV(regressor, ard_parameters, \\\n",
    "                                       cv=KFold(n_splits=3, shuffle=True, random_state=3111696), \\\n",
    "                                       error_score=0, scoring='r2')\n",
    "    optimized_regressor.fit(data, label)\n",
    "    best_regressor = optimized_regressor.best_estimator_\n",
    "    best_result = optimized_regressor.cv_results_\n",
    "    print(optimized_regressor.best_params_)\n",
    "    best_score = optimized_regressor.best_score_\n",
    "    r2_scores.append(best_score)\n",
    "    print(\"Best score: \", best_score)\n",
    "    print(\"Finished dataset: %s\" % d_set)\n",
    "    print(\"------------------------------------------------------------\")\n",
    "\n",
    "print('Training finished')\n",
    "print(\"Mean R2 square: \\n\", np.mean(r2_scores))\n",
    "end_time = time.time()\n",
    "print('Total time taken: %d seconds' % int(end_time - start_time))"
   ]
  },
  {
   "cell_type": "code",
   "execution_count": null,
   "metadata": {},
   "outputs": [],
   "source": []
  },
  {
   "cell_type": "code",
   "execution_count": null,
   "metadata": {},
   "outputs": [],
   "source": []
  }
 ],
 "metadata": {
  "kernelspec": {
   "display_name": "Python 2",
   "language": "python",
   "name": "python2"
  },
  "language_info": {
   "codemirror_mode": {
    "name": "ipython",
    "version": 3
   },
   "file_extension": ".py",
   "mimetype": "text/x-python",
   "name": "python",
   "nbconvert_exporter": "python",
   "pygments_lexer": "ipython3",
   "version": "3.6.5"
  }
 },
 "nbformat": 4,
 "nbformat_minor": 2
}
