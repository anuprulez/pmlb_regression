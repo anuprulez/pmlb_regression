{
 "cells": [
  {
   "cell_type": "code",
   "execution_count": 25,
   "metadata": {
    "scrolled": false
   },
   "outputs": [
    {
     "name": "stdout",
     "output_type": "stream",
     "text": [
      "Training started...\n",
      "Processing dataset: 192_vineyard.tsv\n",
      "{'feature_selection__k': 1, 'regression__weights': 'distance'}\n",
      "Best score:  0.5299557018519039\n",
      "Finished dataset: 192_vineyard.tsv\n",
      "------------------------------------------------------------\n",
      "Training finished\n",
      "Mean R2 square: \n",
      " 0.5299557018519039\n",
      "Total time taken: 0 seconds\n"
     ]
    }
   ],
   "source": [
    "import sys\n",
    "import time\n",
    "import pandas as pd\n",
    "from sklearn import model_selection\n",
    "from sklearn import neighbors, metrics, cluster\n",
    "from matplotlib import pyplot as plt\n",
    "import scipy\n",
    "import numpy as np\n",
    "from sklearn.pipeline import Pipeline\n",
    "from sklearn import preprocessing\n",
    "from sklearn.feature_selection import *\n",
    "from sklearn.model_selection import GridSearchCV, KFold\n",
    "\n",
    "import warnings\n",
    "warnings.filterwarnings('ignore')\n",
    "\n",
    "%matplotlib inline\n",
    "start_time = time.time()\n",
    "datasets = [\"228_elusage.tsv\", \"485_analcatdata_vehicle.tsv\", \"523_analcatdata_neavote.tsv\", \\\n",
    "            '663_rabe_266.tsv', '687_sleuth_ex1605.tsv']\n",
    "\n",
    "datasets = ['192_vineyard.tsv']\n",
    "\n",
    "regressor = Pipeline([\n",
    "  ('preprocessing', preprocessing.MinMaxScaler()),\n",
    "  ('feature_selection', SelectKBest(f_regression)),\n",
    "  ('regression', neighbors.RadiusNeighborsRegressor())\n",
    "])\n",
    "\n",
    "parameters = [{ \\\n",
    "    'feature_selection__k': [1, 2, 3, 4, 5, 6, 7, 8, 9, 10], \\\n",
    "    'regression__weights': ['uniform', 'distance'], \\\n",
    "}]\n",
    "\n",
    "print('Training started...')\n",
    "dataset_accuracies = list()\n",
    "r2_scores = list()\n",
    "for d_set in datasets:\n",
    "    print(\"Processing dataset: %s\" % d_set)\n",
    "    data_path = \"data/\" + d_set\n",
    "    df = pd.read_csv(data_path, sep=\"\\t\")\n",
    "    label = df[\"target\"].copy()\n",
    "    data = df.drop(\"target\", axis=1)\n",
    "    optimized_regressor = GridSearchCV(regressor, parameters, \\\n",
    "                                       cv=KFold(n_splits=3, shuffle=True, random_state=3111696), \\\n",
    "                                       error_score=0, scoring='r2')\n",
    "    optimized_regressor.fit(data, label)\n",
    "    best_regressor = optimized_regressor.best_estimator_\n",
    "    best_result = optimized_regressor.cv_results_\n",
    "    print(optimized_regressor.best_params_)\n",
    "    best_score = optimized_regressor.best_score_\n",
    "    r2_scores.append(best_score)\n",
    "    print(\"Best score: \", best_score)\n",
    "    print(\"Finished dataset: %s\" % d_set)\n",
    "    print(\"------------------------------------------------------------\")\n",
    "\n",
    "print('Training finished')\n",
    "print(\"Mean R2 square: \\n\", np.mean(r2_scores))\n",
    "end_time = time.time()\n",
    "print('Total time taken: %d seconds' % int(end_time - start_time))"
   ]
  },
  {
   "cell_type": "code",
   "execution_count": null,
   "metadata": {},
   "outputs": [],
   "source": []
  },
  {
   "cell_type": "code",
   "execution_count": null,
   "metadata": {},
   "outputs": [],
   "source": []
  },
  {
   "cell_type": "code",
   "execution_count": null,
   "metadata": {},
   "outputs": [],
   "source": []
  }
 ],
 "metadata": {
  "kernelspec": {
   "display_name": "Python 3",
   "language": "python",
   "name": "python3"
  },
  "language_info": {
   "codemirror_mode": {
    "name": "ipython",
    "version": 3
   },
   "file_extension": ".py",
   "mimetype": "text/x-python",
   "name": "python",
   "nbconvert_exporter": "python",
   "pygments_lexer": "ipython3",
   "version": "3.6.6"
  }
 },
 "nbformat": 4,
 "nbformat_minor": 2
}
