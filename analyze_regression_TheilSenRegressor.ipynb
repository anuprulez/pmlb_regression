{
 "cells": [
  {
   "cell_type": "code",
   "execution_count": 8,
   "metadata": {
    "scrolled": false
   },
   "outputs": [
    {
     "name": "stdout",
     "output_type": "stream",
     "text": [
      "Training started...\n",
      "Processing dataset: 228_elusage.tsv\n",
      "{'feature_selection__k': 1, 'regression__fit_intercept': True, 'regression__random_state': 3111696}\n",
      "Best score:  0.7168358363327193\n",
      "Finished dataset: 228_elusage.tsv\n",
      "------------------------------------------------------------\n",
      "Processing dataset: 485_analcatdata_vehicle.tsv\n",
      "{'feature_selection__k': 4, 'regression__fit_intercept': True, 'regression__random_state': 3111696}\n",
      "Best score:  0.4836335514910924\n",
      "Finished dataset: 485_analcatdata_vehicle.tsv\n",
      "------------------------------------------------------------\n",
      "Processing dataset: 523_analcatdata_neavote.tsv\n",
      "{'feature_selection__k': 2, 'regression__fit_intercept': True, 'regression__random_state': 3111696}\n",
      "Best score:  0.896440401442316\n",
      "Finished dataset: 523_analcatdata_neavote.tsv\n",
      "------------------------------------------------------------\n",
      "Processing dataset: 663_rabe_266.tsv\n",
      "{'feature_selection__k': 2, 'regression__fit_intercept': True, 'regression__random_state': 3111696}\n",
      "Best score:  0.9676217590582422\n",
      "Finished dataset: 663_rabe_266.tsv\n",
      "------------------------------------------------------------\n",
      "Processing dataset: 687_sleuth_ex1605.tsv\n",
      "{'feature_selection__k': 1, 'regression__fit_intercept': False, 'regression__random_state': 3111696}\n",
      "Best score:  0.5737098375264992\n",
      "Finished dataset: 687_sleuth_ex1605.tsv\n",
      "------------------------------------------------------------\n",
      "Training finished\n",
      "Mean R2 square: \n",
      " 0.7276482771701739\n",
      "Total time taken: 17 seconds\n"
     ]
    }
   ],
   "source": [
    "import sys\n",
    "import time\n",
    "import pandas as pd\n",
    "from sklearn import model_selection\n",
    "from sklearn import linear_model, metrics, cluster\n",
    "from matplotlib import pyplot as plt\n",
    "import scipy\n",
    "import numpy as np\n",
    "from sklearn.pipeline import Pipeline\n",
    "from sklearn import preprocessing\n",
    "from sklearn.feature_selection import *\n",
    "from sklearn.model_selection import GridSearchCV, KFold\n",
    "import warnings\n",
    "\n",
    "\n",
    "warnings.filterwarnings('ignore')\n",
    "\n",
    "\n",
    "%matplotlib inline\n",
    "start_time = time.time()\n",
    "datasets = [\"228_elusage.tsv\", \"485_analcatdata_vehicle.tsv\", \"523_analcatdata_neavote.tsv\", \\\n",
    "            '663_rabe_266.tsv', '687_sleuth_ex1605.tsv']\n",
    "\n",
    "#datasets = [\"557_analcatdata_apnea1.tsv\", \"556_analcatdata_apnea2.tsv\"]\n",
    "\n",
    "regressor = Pipeline([\n",
    "  #('feature_selection', SelectKBest(f_regression)),\n",
    "  ('regression', linear_model.TheilSenRegressor())\n",
    "])\n",
    "\n",
    "parameters = [{ \\\n",
    "    #'feature_selection__k': [1, 2, 3, 4, 5 ,6, 7, 8, 9, 10], \\\n",
    "    'regression__fit_intercept': [True, False], \\\n",
    "    'regression__random_state': [3111696] \\\n",
    "}]\n",
    "\n",
    "print('Training started...')\n",
    "dataset_accuracies = list()\n",
    "r2_scores = list()\n",
    "for d_set in datasets:\n",
    "    print(\"Processing dataset: %s\" % d_set)\n",
    "    data_path = \"data/\" + d_set\n",
    "    df = pd.read_csv(data_path, sep=\"\\t\")\n",
    "    label = df[\"target\"].copy()\n",
    "    data = df.drop(\"target\", axis=1)\n",
    "    optimized_regressor = GridSearchCV(regressor, parameters, \\\n",
    "                                       cv=KFold(n_splits=3, shuffle=True, random_state=3111696), \\\n",
    "                                       error_score=0, scoring='r2')\n",
    "    optimized_regressor.fit(data, label)\n",
    "    best_regressor = optimized_regressor.best_estimator_\n",
    "    best_result = optimized_regressor.cv_results_\n",
    "    print(optimized_regressor.best_params_)\n",
    "    best_score = optimized_regressor.best_score_\n",
    "    r2_scores.append(best_score)\n",
    "    print(\"Best score: \", best_score)\n",
    "    print(\"Finished dataset: %s\" % d_set)\n",
    "    print(\"------------------------------------------------------------\")\n",
    "\n",
    "print('Training finished')\n",
    "print(\"Mean R2 square: \\n\", np.mean(r2_scores))\n",
    "end_time = time.time()\n",
    "print('Total time taken: %d seconds' % int(end_time - start_time))"
   ]
  },
  {
   "cell_type": "code",
   "execution_count": null,
   "metadata": {},
   "outputs": [],
   "source": []
  },
  {
   "cell_type": "code",
   "execution_count": null,
   "metadata": {},
   "outputs": [],
   "source": []
  }
 ],
 "metadata": {
  "kernelspec": {
   "display_name": "Python 3",
   "language": "python",
   "name": "python3"
  },
  "language_info": {
   "codemirror_mode": {
    "name": "ipython",
    "version": 3
   },
   "file_extension": ".py",
   "mimetype": "text/x-python",
   "name": "python",
   "nbconvert_exporter": "python",
   "pygments_lexer": "ipython3",
   "version": "3.6.6"
  }
 },
 "nbformat": 4,
 "nbformat_minor": 2
}
