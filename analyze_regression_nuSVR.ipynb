{
 "cells": [
  {
   "cell_type": "code",
   "execution_count": 1,
   "metadata": {},
   "outputs": [
    {
     "name": "stderr",
     "output_type": "stream",
     "text": [
      "/home/kumara/miniconda3/lib/python3.6/site-packages/sklearn/ensemble/weight_boosting.py:29: DeprecationWarning: numpy.core.umath_tests is an internal NumPy module and should not be imported. It will be removed in a future NumPy release.\n",
      "  from numpy.core.umath_tests import inner1d\n"
     ]
    },
    {
     "name": "stdout",
     "output_type": "stream",
     "text": [
      "Training started...\n",
      "Processing dataset: 207_autoPrice.tsv\n",
      "{'regression__C': 0.01, 'regression__degree': 2, 'regression__kernel': 'rbf'}\n",
      "Absolute error: 4097.65\n"
     ]
    },
    {
     "data": {
      "text/plain": [
       "<Figure size 640x480 with 1 Axes>"
      ]
     },
     "metadata": {},
     "output_type": "display_data"
    },
    {
     "name": "stdout",
     "output_type": "stream",
     "text": [
      "Finished dataset: 207_autoPrice.tsv\n",
      "------------------------------------------------------------\n",
      "Training finished\n",
      "Mean squared error \n",
      " 4097.649964816255\n",
      "Total time taken: 630\n"
     ]
    }
   ],
   "source": [
    "import sys\n",
    "import time\n",
    "import pandas as pd\n",
    "from sklearn import model_selection\n",
    "from sklearn import tree, linear_model, svm, ensemble, metrics, cluster\n",
    "import xgboost as xgb\n",
    "from matplotlib import pyplot as plt\n",
    "import scipy\n",
    "import numpy as np\n",
    "from sklearn.pipeline import Pipeline\n",
    "from sklearn import preprocessing\n",
    "from sklearn.feature_selection import *\n",
    "from skrebate import ReliefF, SURF, TuRF, SURFstar\n",
    "from sklearn.decomposition import *\n",
    "from sklearn.model_selection import GridSearchCV, RandomizedSearchCV\n",
    "#from sklearn.kernel_approximation import *\n",
    "\n",
    "start_time = time.time()\n",
    "#datasets = [\"195_auto_price.tsv\", \"197_cpu_act.tsv\", \"207_autoPrice.tsv\", \"192_vineyard.tsv\", '210_cloud.tsv']\n",
    "\n",
    "datasets = [\"207_autoPrice.tsv\"]\n",
    "\n",
    "regressor = Pipeline([\n",
    "  #('preprocessing1', preprocessing.Normalizer()),\n",
    "  #('feature_selection', SelectFpr(score_func=f_regression)),\n",
    "  #('feature_selection', SelectKBest(f_regression)),\n",
    "  #('feature_selection', FastICA()),\n",
    "  #('feature_selection2', cluster.FeatureAgglomeration()),\n",
    "  ('regression', svm.NuSVR())\n",
    "])\n",
    "\n",
    "'''nuSVR_parameters = [{'feature_selection__k': [1, 2, 3, 4, 5, 8, 15], \\\n",
    "                     'regression__nu':[0.001, 0.005, 0.01, 0.1, 0.5, .1], \\\n",
    "                     'regression__C':[0.01, 0.1, 0.05, 1, 2, 5, 10, 50, 100], \\\n",
    "                     'regression__kernel':['linear', 'poly', 'rbf', 'sigmoid', 'precomputed'], \\\n",
    "                     'regression__degree':[2, 3, 4, 5], \\\n",
    "                     'regression__gamma':[0.01, 0.1, 0.05, 'auto'], \\\n",
    "                     'regression__coef0':[0.01, 0.1, 0.05, 1, 2, 5, 10, 50, 100], \\\n",
    "                     'regression__shrinking':[True, False]\n",
    "                    }]'''\n",
    "\n",
    "nuSVR_parameters = [{ \n",
    "                     #'feature_selection__k': [1, 2, 3, 4, 10], \\\n",
    "                     #'regression__nu':[0.01, 0.1, 1.0], \\\n",
    "                     'regression__C':[0.01, 1], \\\n",
    "                     'regression__kernel':['poly', 'rbf'], \\\n",
    "                     'regression__degree':[2], \\\n",
    "                     #'regression__gamma':[0.01, 'auto'], \\\n",
    "                     #'regression__coef0':[0.01, 1.0], \\\n",
    "                     #'regression__shrinking':[True, False]\n",
    "                    }]\n",
    "\n",
    "\n",
    "print('Training started...')\n",
    "dataset_accuracies = list()\n",
    "for d_set in datasets:\n",
    "    print(\"Processing dataset: %s\" % d_set)\n",
    "    data_path = \"data/\" + d_set\n",
    "    df = pd.read_csv(data_path, sep=\"\\t\")\n",
    "    label = df[\"target\"].copy()\n",
    "    data = df.drop(\"target\", axis=1)\n",
    "    X_train, X_test, y_train, y_test = model_selection.train_test_split(data, label, test_size=0.25, random_state=42)\n",
    "    \n",
    "    X_train = X_train.values\n",
    "    X_test = X_test.values\n",
    "    y_train = y_train.values\n",
    "    y_test = y_test.values\n",
    "    \n",
    "    optimized_regressor = GridSearchCV(regressor, nuSVR_parameters, cv=5, error_score=0)\n",
    "    \n",
    "    optimized_regressor.fit(X_train, y_train)\n",
    "    best_regressor = optimized_regressor.best_estimator_\n",
    "    best_result = optimized_regressor.cv_results_\n",
    "    \n",
    "    print(optimized_regressor.best_params_)\n",
    "    prediction = best_regressor.predict(X_test)\n",
    "    \n",
    "    mse = np.mean([np.abs(x-y) for x, y in zip(prediction, y_test)])\n",
    "    print(\"Absolute error: %0.2f\" % mse)\n",
    "    dataset_accuracies.append(mse)\n",
    "    \n",
    "    plt.figure()\n",
    "    plt.plot(y_test, color='r')\n",
    "    plt.plot(prediction, color='g')\n",
    "    plt.grid(True)\n",
    "    plt.legend(['True', 'Predicted'])\n",
    "    plt.show()\n",
    "    print(\"Finished dataset: %s\" % d_set)\n",
    "    print(\"------------------------------------------------------------\")\n",
    "    \n",
    "print('Training finished')\n",
    "print(\"Mean squared error \\n\", np.mean(dataset_accuracies))\n",
    "end_time = time.time()\n",
    "print('Total time taken: %d seconds' % int(end_time - start_time))\n",
    "\n"
   ]
  },
  {
   "cell_type": "code",
   "execution_count": null,
   "metadata": {},
   "outputs": [],
   "source": []
  },
  {
   "cell_type": "code",
   "execution_count": null,
   "metadata": {},
   "outputs": [],
   "source": []
  }
 ],
 "metadata": {
  "kernelspec": {
   "display_name": "Python 3",
   "language": "python",
   "name": "python3"
  },
  "language_info": {
   "codemirror_mode": {
    "name": "ipython",
    "version": 3
   },
   "file_extension": ".py",
   "mimetype": "text/x-python",
   "name": "python",
   "nbconvert_exporter": "python",
   "pygments_lexer": "ipython3",
   "version": "3.6.5"
  }
 },
 "nbformat": 4,
 "nbformat_minor": 2
}
