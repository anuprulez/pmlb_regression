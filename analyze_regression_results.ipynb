{
 "cells": [
  {
   "cell_type": "code",
   "execution_count": null,
   "metadata": {
    "scrolled": true
   },
   "outputs": [],
   "source": [
    "import sys\n",
    "import time\n",
    "import pandas as pd\n",
    "from matplotlib import pyplot as plt\n",
    "import os\n",
    "import numpy as np\n",
    "\n",
    "\n",
    "import warnings\n",
    "warnings.filterwarnings('ignore')\n",
    "\n",
    "%matplotlib inline\n",
    "start_time = time.time()\n",
    "\n",
    "clf_names = ['Adaboost', 'Bagging', 'DecisionTree', 'ExtraTree', 'KNNeibhbours', 'LinearSVR']\n",
    "\n",
    "for clf in clf_names:\n",
    "    data_path = \"results/\" + clf\n",
    "    files = [f for f in os.listdir(data_path)]\n",
    "    r2_scores = list()\n",
    "    for f_name in files:\n",
    "        f_path = data_path + \"/\" + f_name\n",
    "        df = pd.read_csv(f_path, sep=\"\\t\")\n",
    "        rank_test_score = df[df[\"rank_test_score\"] == 1]\n",
    "        mean_test_score = rank_test_score[\"mean_test_score\"]\n",
    "        r2_scores.append(mean_test_score.iloc[0])\n",
    "\n",
    "    print(\"Mean R2 score for %s regressor: %0.2f\" % (clf, np.mean(r2_scores)))\n",
    "\n",
    "    plt.figure()\n",
    "    plt.plot(r2_scores, color='r')\n",
    "    plt.grid(True)\n",
    "    plt.title(('Best R2 scores for %d datasets (%s regression)' % (len(files), clf)))\n",
    "    plt.show()\n",
    "    print(\"-------------x------------------x---------------\")\n",
    "    print()\n",
    "\n",
    "end_time = time.time()\n",
    "print('Total time taken: %d seconds' % int(end_time - start_time))"
   ]
  },
  {
   "cell_type": "code",
   "execution_count": null,
   "metadata": {},
   "outputs": [],
   "source": []
  }
 ],
 "metadata": {
  "kernelspec": {
   "display_name": "Python 2",
   "language": "python",
   "name": "python2"
  }
 },
 "nbformat": 4,
 "nbformat_minor": 2
}
