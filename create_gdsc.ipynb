{
 "cells": [
  {
   "cell_type": "code",
   "execution_count": 2,
   "metadata": {},
   "outputs": [
    {
     "name": "stdout",
     "output_type": "stream",
     "text": [
      "(17737, 1019)\n"
     ]
    }
   ],
   "source": [
    "# https://www.cancerrxgene.org/downloads\n",
    "\n",
    "# Cell line and gene expression:\n",
    "# ftp://ftp.sanger.ac.uk/pub/project/cancerrxgene/releases/current_release/sanger1018_brainarray_ensemblgene_rma.txt.gz\n",
    "\n",
    "# Drug-response:\n",
    "# ftp://ftp.sanger.ac.uk/pub/project/cancerrxgene/releases/current_release/v17.3_fitted_dose_response.xlsx\n",
    "\n",
    "\n",
    "import pandas as pd\n",
    "\n",
    "file_gexp = \"depmap/sanger1018_brainarray_ensemblgene_rma.txt\"\n",
    "gene_expression = pd.read_csv(file_gexp, sep='\\t')\n",
    "print(gene_expression.shape)"
   ]
  },
  {
   "cell_type": "code",
   "execution_count": 6,
   "metadata": {},
   "outputs": [
    {
     "name": "stdout",
     "output_type": "stream",
     "text": [
      "(224202, 13)\n"
     ]
    }
   ],
   "source": [
    "file_dr = \"depmap/v17.3_fitted_dose_response.xlsx\"\n",
    "cl_drugresp = pd.read_excel(file_dr)\n",
    "print(cl_drugresp.shape)"
   ]
  },
  {
   "cell_type": "code",
   "execution_count": 20,
   "metadata": {},
   "outputs": [
    {
     "name": "stdout",
     "output_type": "stream",
     "text": [
      "      ensembl_gene     906826     687983    910927   1240138    1240139  \\\n",
      "1  ENSG00000000005   2.964585   2.777716  2.643508  2.817923   2.957739   \n",
      "2  ENSG00000000419  10.379553  11.807341  9.880733  9.883471  10.418840   \n",
      "3  ENSG00000000457   3.614794   4.066887  3.956230  4.063701   4.341500   \n",
      "4  ENSG00000000460   3.380681   3.732485  3.236620  3.558414   3.840373   \n",
      "5  ENSG00000000938   3.324692   3.152404  3.241246  3.101247   3.001802   \n",
      "6  ENSG00000000971   3.566350   7.827172  2.931034  7.211707   3.375422   \n",
      "7  ENSG00000001036   8.204530   6.616972  8.191246  8.630643   8.296950   \n",
      "8  ENSG00000001084   5.235118   5.809264  5.426841  5.617714   5.669418   \n",
      "9  ENSG00000001167   5.369039   7.209653  5.120747  4.996434   4.180205   \n",
      "\n",
      "     906792     910688    1240135    1290812    ...         753584     907044  \\\n",
      "1  2.889677   2.828203   2.874751   2.686874    ...       2.798847   2.745137   \n",
      "2  9.773987  10.264385  10.205931  10.299757    ...      10.486486  10.442951   \n",
      "3  4.270903   5.968168   3.715033   3.848112    ...       3.696835   4.624013   \n",
      "4  3.815055   3.011867   3.268449   3.352835    ...       3.726833   3.947744   \n",
      "5  3.298915   9.565308   3.036333   3.278688    ...       3.245301   8.969347   \n",
      "6  4.336319   3.209435   5.792784   3.246738    ...       3.440701   3.321662   \n",
      "7  8.838671   6.859414   8.607059   8.290843    ...       8.953766   5.819262   \n",
      "8  5.656988   5.622999   5.042085   5.777029    ...       5.293640   6.746681   \n",
      "9  5.479766   5.113055   4.537562   5.396637    ...       5.471623   5.454666   \n",
      "\n",
      "      998184     908145    1659787    1298157    1480372    1298533    930299  \\\n",
      "1   2.976406   2.852552   2.622630   2.639276   2.879890   2.521169  2.870468   \n",
      "2  10.311962  10.454830  10.418475  11.463742  10.557777  10.792750  9.873902   \n",
      "3   4.348524   3.858121   3.947561   4.425849   3.550390   4.443337  4.266828   \n",
      "4   3.806584   3.196988   3.814831   4.384732   4.247189   3.071359  3.230197   \n",
      "5   3.562548   3.098083   3.170766   3.229511   3.176336   3.238305  3.027742   \n",
      "6   3.411741   7.483200   3.312925   3.571204   3.321811   5.209472  3.407148   \n",
      "7   3.427984   9.149982   9.408050   8.193000   8.901706   8.073389  5.760610   \n",
      "8   6.683907   6.055008   5.760336   5.671600   4.684851   5.643811  5.834256   \n",
      "9   6.523714   5.213701   4.531288   4.943996   4.215908   5.040952  5.550722   \n",
      "\n",
      "    905954.1  \n",
      "1   2.834285  \n",
      "2  10.788218  \n",
      "3   4.100493  \n",
      "4   3.435795  \n",
      "5   3.330279  \n",
      "6   3.063284  \n",
      "7   8.191465  \n",
      "8   5.329834  \n",
      "9   5.877487  \n",
      "\n",
      "[9 rows x 1019 columns]\n",
      "   DATASET_VERSION  IC50_RESULTS_ID  COSMIC_ID CELL_LINE_NAME  DRUG_ID  \\\n",
      "1             17.3             1482     684055            ES3        1   \n",
      "2             17.3             1791     684057            ES5        1   \n",
      "3             17.3             2177     684059            ES7        1   \n",
      "4             17.3             2754     684062          EW-11        1   \n",
      "5             17.3             3333     684072        SK-ES-1        1   \n",
      "6             17.3             3878     684681      NCI-H1395        1   \n",
      "7             17.3             4337     687448       COLO-829        1   \n",
      "8             17.3             8856     687562        8-MG-BA        1   \n",
      "9             17.3             9875     687568           GB-1        1   \n",
      "\n",
      "   DRUG_NAME PUTATIVE_TARGET  MAX_CONC_MICROMOLAR  MIN_CONC_MICROMOLAR  \\\n",
      "1  Erlotinib            EGFR                  2.0             0.007812   \n",
      "2  Erlotinib            EGFR                  2.0             0.007812   \n",
      "3  Erlotinib            EGFR                  2.0             0.007812   \n",
      "4  Erlotinib            EGFR                  2.0             0.007812   \n",
      "5  Erlotinib            EGFR                  2.0             0.007812   \n",
      "6  Erlotinib            EGFR                  2.0             0.007812   \n",
      "7  Erlotinib            EGFR                  2.0             0.007812   \n",
      "8  Erlotinib            EGFR                  2.0             0.007812   \n",
      "9  Erlotinib            EGFR                  2.0             0.007812   \n",
      "\n",
      "    LN_IC50       AUC      RMSE   Z_SCORE  \n",
      "1  3.376592  0.985169  0.029915  0.779999  \n",
      "2  3.614664  0.983207  0.031201  0.985170  \n",
      "3  3.223394  0.984574  0.093857  0.647971  \n",
      "4  2.486405  0.946034  0.087280  0.012832  \n",
      "5  2.048918  0.951604  0.015758 -0.364196  \n",
      "6  4.198994  0.982545  0.029594  1.488747  \n",
      "7  3.101688  0.952900  0.179313  0.543086  \n",
      "8  2.580268  0.980663  0.041394  0.093723  \n",
      "9  3.322689  0.976825  0.095117  0.733545  \n"
     ]
    }
   ],
   "source": [
    "print(gene_expression.iloc[1:10,:])\n",
    "print(cl_drugresp.iloc[1:10,:])"
   ]
  },
  {
   "cell_type": "code",
   "execution_count": null,
   "metadata": {
    "scrolled": false
   },
   "outputs": [
    {
     "name": "stdout",
     "output_type": "stream",
     "text": [
      "1 Erlotinib (370, 17738)\n",
      "2 Rapamycin (362, 17738)\n",
      "3 Sunitinib (398, 17738)\n",
      "4 PHA-665752 (406, 17738)\n",
      "5 MG-132 (400, 17738)\n",
      "6 Paclitaxel (399, 17738)\n",
      "7 Cyclopamine (396, 17738)\n",
      "8 AZ628 (402, 17738)\n",
      "9 Sorafenib (403, 17738)\n",
      "10 Tozasertib (393, 17738)\n",
      "11 Imatinib (406, 17738)\n",
      "12 NVP-TAE684 (405, 17738)\n",
      "13 Crizotinib (405, 17738)\n",
      "14 Saracatinib (406, 17738)\n",
      "15 S-Trityl-L-cysteine (397, 17738)\n",
      "16 Z-LLNle-CHO (398, 17738)\n",
      "17 Dasatinib (395, 17738)\n",
      "18 GNF-2 (396, 17738)\n",
      "19 CGP-60474 (398, 17738)\n",
      "20 CGP-082996 (398, 17738)\n",
      "21 A-770041 (399, 17738)\n",
      "22 WH-4-023 (396, 17738)\n",
      "23 WZ-1-84 (398, 17738)\n",
      "24 BI-2536 (397, 17738)\n",
      "25 BMS-536924 (399, 17738)\n",
      "26 BMS-509744 (399, 17738)\n",
      "27 CMK (398, 17738)\n",
      "28 Pyrimethamine (401, 17738)\n",
      "29 JW-7-52-1 (384, 17738)\n",
      "30 A-443654 (398, 17738)\n",
      "31 GW843682X (399, 17738)\n",
      "32 Entinostat (400, 17738)\n",
      "33 Parthenolide (402, 17738)\n",
      "34 GSK319347A (402, 17738)\n",
      "35 TGX221 (400, 17738)\n",
      "36 Bortezomib (400, 17738)\n",
      "37 XMD8-85 (397, 17738)\n",
      "38 Seliciclib (396, 17738)\n",
      "39 Salubrinal (398, 17738)\n",
      "40 Lapatinib (396, 17738)\n",
      "41 GSK269962A (402, 17738)\n",
      "42 Doxorubicin (871, 17738)\n",
      "43 Etoposide (881, 17738)\n",
      "44 Gemcitabine (866, 17738)\n",
      "45 Mitomycin-C (872, 17738)\n"
     ]
    }
   ],
   "source": [
    "import numpy as np\n",
    "\n",
    "drug_list = sorted(list(set(cl_drugresp[\"DRUG_ID\"])))\n",
    "\n",
    "for drug_idx, drug_id in enumerate(drug_list):\n",
    "    drug_rows = cl_drugresp[cl_drugresp[\"DRUG_ID\"] == drug_id]\n",
    "    drug_name = drug_rows[\"DRUG_NAME\"].values.tolist()[0]\n",
    "    drug_expression_auc = list()\n",
    "    gene_names = gene_expression.iloc[:,0].values.tolist()\n",
    "    gene_names.append('target')\n",
    "    cell_line_ids = drug_rows[\"COSMIC_ID\"].values\n",
    "    auc = drug_rows[\"AUC\"].values\n",
    "    for idx, cell_id in enumerate(cell_line_ids):\n",
    "        try:\n",
    "            cl_expression_values = gene_expression[str(cell_id)].values.tolist()\n",
    "            cl_expression_values.append(auc[idx])\n",
    "            drug_expression_auc.append(cl_expression_values)\n",
    "        except:\n",
    "            continue\n",
    "    df_drug_exp_auc = pd.DataFrame(drug_expression_auc, columns=gene_names)\n",
    "    print(drug_idx+1, drug_name, df_drug_exp_auc.shape)\n",
    "    df_drug_exp_auc.to_csv(\"depmap/data/\" + drug_name + \".csv\")\n",
    "\n",
    "\n"
   ]
  },
  {
   "cell_type": "code",
   "execution_count": null,
   "metadata": {},
   "outputs": [],
   "source": []
  }
 ],
 "metadata": {
  "kernelspec": {
   "display_name": "Python 3",
   "language": "python",
   "name": "python3"
  },
  "language_info": {
   "codemirror_mode": {
    "name": "ipython",
    "version": 3
   },
   "file_extension": ".py",
   "mimetype": "text/x-python",
   "name": "python",
   "nbconvert_exporter": "python",
   "pygments_lexer": "ipython3",
   "version": "3.6.7"
  }
 },
 "nbformat": 4,
 "nbformat_minor": 2
}
