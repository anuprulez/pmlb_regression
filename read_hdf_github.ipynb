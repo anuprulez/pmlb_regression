{
 "cells": [
  {
   "cell_type": "code",
   "execution_count": 64,
   "metadata": {},
   "outputs": [
    {
     "name": "stdout",
     "output_type": "stream",
     "text": [
      "file exists\n",
      "\"{\\\"class_name\\\": \\\"Sequential\\\", \\\"config\\\": {\\\"name\\\": \\\"sequential_1\\\", \\\"layers\\\": [{\\\"class_name\\\": \\\"Embedding\\\", \\\"config\\\": {\\\"name\\\": \\\"embedding_1\\\", \\\"trainable\\\": true, \\\"batch_input_shape\\\": [null, null], \\\"dtype\\\": \\\"float32\\\", \\\"input_dim\\\": 740, \\\"output_dim\\\": 128, \\\"embeddings_initializer\\\": {\\\"class_name\\\": \\\"RandomUniform\\\", \\\"config\\\": {\\\"minval\\\": -0.05, \\\"maxval\\\": 0.05, \\\"seed\\\": null}}, \\\"embeddings_regularizer\\\": null, \\\"activity_regularizer\\\": null, \\\"embeddings_constraint\\\": null, \\\"mask_zero\\\": true, \\\"input_length\\\": null}}, {\\\"class_name\\\": \\\"SpatialDropout1D\\\", \\\"config\\\": {\\\"name\\\": \\\"spatial_dropout1d_1\\\", \\\"trainable\\\": true, \\\"rate\\\": 0.1, \\\"noise_shape\\\": null, \\\"seed\\\": null}}, {\\\"class_name\\\": \\\"GRU\\\", \\\"config\\\": {\\\"name\\\": \\\"gru_1\\\", \\\"trainable\\\": true, \\\"return_sequences\\\": true, \\\"return_state\\\": false, \\\"go_backwards\\\": false, \\\"stateful\\\": false, \\\"unroll\\\": false, \\\"units\\\": 128, \\\"activation\\\": \\\"elu\\\", \\\"recurrent_activation\\\": \\\"hard_sigmoid\\\", \\\"use_bias\\\": true, \\\"kernel_initializer\\\": {\\\"class_name\\\": \\\"VarianceScaling\\\", \\\"config\\\": {\\\"scale\\\": 1.0, \\\"mode\\\": \\\"fan_avg\\\", \\\"distribution\\\": \\\"uniform\\\", \\\"seed\\\": null}}, \\\"recurrent_initializer\\\": {\\\"class_name\\\": \\\"Orthogonal\\\", \\\"config\\\": {\\\"gain\\\": 1.0, \\\"seed\\\": null}}, \\\"bias_initializer\\\": {\\\"class_name\\\": \\\"Zeros\\\", \\\"config\\\": {}}, \\\"kernel_regularizer\\\": null, \\\"recurrent_regularizer\\\": null, \\\"bias_regularizer\\\": null, \\\"activity_regularizer\\\": null, \\\"kernel_constraint\\\": null, \\\"recurrent_constraint\\\": null, \\\"bias_constraint\\\": null, \\\"dropout\\\": 0.1, \\\"recurrent_dropout\\\": 0.1, \\\"implementation\\\": 1, \\\"reset_after\\\": false}}, {\\\"class_name\\\": \\\"Dropout\\\", \\\"config\\\": {\\\"name\\\": \\\"dropout_1\\\", \\\"trainable\\\": true, \\\"rate\\\": 0.1, \\\"noise_shape\\\": null, \\\"seed\\\": null}}, {\\\"class_name\\\": \\\"GRU\\\", \\\"config\\\": {\\\"name\\\": \\\"gru_2\\\", \\\"trainable\\\": true, \\\"return_sequences\\\": false, \\\"return_state\\\": false, \\\"go_backwards\\\": false, \\\"stateful\\\": false, \\\"unroll\\\": false, \\\"units\\\": 128, \\\"activation\\\": \\\"elu\\\", \\\"recurrent_activation\\\": \\\"hard_sigmoid\\\", \\\"use_bias\\\": true, \\\"kernel_initializer\\\": {\\\"class_name\\\": \\\"VarianceScaling\\\", \\\"config\\\": {\\\"scale\\\": 1.0, \\\"mode\\\": \\\"fan_avg\\\", \\\"distribution\\\": \\\"uniform\\\", \\\"seed\\\": null}}, \\\"recurrent_initializer\\\": {\\\"class_name\\\": \\\"Orthogonal\\\", \\\"config\\\": {\\\"gain\\\": 1.0, \\\"seed\\\": null}}, \\\"bias_initializer\\\": {\\\"class_name\\\": \\\"Zeros\\\", \\\"config\\\": {}}, \\\"kernel_regularizer\\\": null, \\\"recurrent_regularizer\\\": null, \\\"bias_regularizer\\\": null, \\\"activity_regularizer\\\": null, \\\"kernel_constraint\\\": null, \\\"recurrent_constraint\\\": null, \\\"bias_constraint\\\": null, \\\"dropout\\\": 0.1, \\\"recurrent_dropout\\\": 0.1, \\\"implementation\\\": 1, \\\"reset_after\\\": false}}, {\\\"class_name\\\": \\\"Dropout\\\", \\\"config\\\": {\\\"name\\\": \\\"dropout_2\\\", \\\"trainable\\\": true, \\\"rate\\\": 0.1, \\\"noise_shape\\\": null, \\\"seed\\\": null}}, {\\\"class_name\\\": \\\"Dense\\\", \\\"config\\\": {\\\"name\\\": \\\"dense_1\\\", \\\"trainable\\\": true, \\\"units\\\": 740, \\\"activation\\\": \\\"sigmoid\\\", \\\"use_bias\\\": true, \\\"kernel_initializer\\\": {\\\"class_name\\\": \\\"VarianceScaling\\\", \\\"config\\\": {\\\"scale\\\": 1.0, \\\"mode\\\": \\\"fan_avg\\\", \\\"distribution\\\": \\\"uniform\\\", \\\"seed\\\": null}}, \\\"bias_initializer\\\": {\\\"class_name\\\": \\\"Zeros\\\", \\\"config\\\": {}}, \\\"kernel_regularizer\\\": null, \\\"bias_regularizer\\\": null, \\\"activity_regularizer\\\": null, \\\"kernel_constraint\\\": null, \\\"bias_constraint\\\": null}}]}, \\\"keras_version\\\": \\\"2.2.4\\\", \\\"backend\\\": \\\"tensorflow\\\"}\"\n"
     ]
    }
   ],
   "source": [
    "import h5py\n",
    "import urllib.request\n",
    "import requests\n",
    "import os\n",
    "\n",
    "url = \"https://github.com/anuprulez/download_store/blob/tool_recommendation_model/tool_recommendation_model/trained_model.hdf5?raw=true\"\n",
    "#a = urllib.request.urlretrieve(url)\n",
    "#c\n",
    "#print(hf_file)\n",
    "#print(hf_file.get('model_config').value)\n",
    "\n",
    "#print(dir(urllib.request))\n",
    "#print(urllib.request.__version__)\n",
    "\n",
    "#import urllib3\n",
    "#http = urllib3.PoolManager()\n",
    "#r = http.request('GET', url)\n",
    "\n",
    "r = requests.get(url)\n",
    "\n",
    "tmp_file = \"/tmp/model.hdf5\"\n",
    "\n",
    "if os.path.exists(tmp_file):\n",
    "    hf_file = h5py.File(tmp_file, 'r')\n",
    "    print(\"file exists\")\n",
    "else:\n",
    "    with open(tmp_file, 'wb') as fl:\n",
    "        fl.write(r.content)\n",
    "    hf_file = h5py.File(tmp_file, 'r')\n",
    "    print(\"file does not exist\")\n",
    "\n",
    "print(hf_file.get('model_config').value)\n"
   ]
  },
  {
   "cell_type": "code",
   "execution_count": null,
   "metadata": {},
   "outputs": [],
   "source": []
  },
  {
   "cell_type": "code",
   "execution_count": null,
   "metadata": {},
   "outputs": [],
   "source": []
  }
 ],
 "metadata": {
  "kernelspec": {
   "display_name": "Python 3",
   "language": "python",
   "name": "python3"
  },
  "language_info": {
   "codemirror_mode": {
    "name": "ipython",
    "version": 3
   },
   "file_extension": ".py",
   "mimetype": "text/x-python",
   "name": "python",
   "nbconvert_exporter": "python",
   "pygments_lexer": "ipython3",
   "version": "3.6.6"
  }
 },
 "nbformat": 4,
 "nbformat_minor": 2
}
